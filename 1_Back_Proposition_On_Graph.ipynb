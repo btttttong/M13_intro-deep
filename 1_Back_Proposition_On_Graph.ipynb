{
 "cells": [
  {
   "cell_type": "code",
   "execution_count": 1,
   "metadata": {},
   "outputs": [],
   "source": [
    "import torch"
   ]
  },
  {
   "cell_type": "code",
   "execution_count": 11,
   "metadata": {},
   "outputs": [],
   "source": [
    "x1 = torch.tensor([2.])\n",
    "x2 = torch.tensor([-1.])\n",
    "b1 = torch.tensor([3.], requires_grad=True)\n",
    "b2 = torch.tensor([2.], requires_grad=True)\n",
    "c1 = torch.tensor([-3.], requires_grad=True)\n",
    "c2 = torch.tensor([0.5], requires_grad=True)\n",
    "\n",
    "z1 = x1 + b1\n",
    "z2 = x2 + b2\n",
    "z3 = torch.sigmoid(z1)\n",
    "z4 = torch.sigmoid(z2)\n",
    "z5 = torch.tanh(z2)\n",
    "z6 = z5 * c2\n",
    "z7 = z1 * z4\n",
    "z8 = z7 * c1\n",
    "z9 = z6 * z3\n",
    "y = z8 + z9\n",
    "\n",
    "\n",
    "z1.retain_grad()\n",
    "z2.retain_grad()\n",
    "z3.retain_grad()\n",
    "z4.retain_grad()\n",
    "z5.retain_grad()\n",
    "z6.retain_grad()\n",
    "z7.retain_grad()\n",
    "z8.retain_grad()\n",
    "z9.retain_grad()\n",
    "y.retain_grad()\n"
   ]
  },
  {
   "cell_type": "code",
   "execution_count": 12,
   "metadata": {},
   "outputs": [
    {
     "name": "stdout",
     "output_type": "stream",
     "text": [
      "tensor([5.], grad_fn=<AddBackward0>) tensor([1.], grad_fn=<AddBackward0>) tensor([0.9933], grad_fn=<SigmoidBackward0>) tensor([0.7311], grad_fn=<SigmoidBackward0>) tensor([0.7616], grad_fn=<TanhBackward0>) tensor([0.3808], grad_fn=<MulBackward0>) tensor([3.6553], grad_fn=<MulBackward0>) tensor([-10.9659], grad_fn=<MulBackward0>) tensor([0.3782], grad_fn=<MulBackward0>) tensor([-10.5876], grad_fn=<AddBackward0>)\n"
     ]
    }
   ],
   "source": [
    "print(z1, z2, z3, z4, z5, z6, z7, z8, z9, y)"
   ]
  },
  {
   "cell_type": "code",
   "execution_count": 13,
   "metadata": {},
   "outputs": [],
   "source": [
    "y.backward()"
   ]
  },
  {
   "cell_type": "code",
   "execution_count": 14,
   "metadata": {},
   "outputs": [
    {
     "name": "stdout",
     "output_type": "stream",
     "text": [
      "tensor([-2.1906]) tensor([-2.7406]) tensor([3.6553]) tensor([0.7565])\n"
     ]
    }
   ],
   "source": [
    "print(b1.grad, b2.grad, c1.grad, c2.grad)"
   ]
  },
  {
   "cell_type": "code",
   "execution_count": 15,
   "metadata": {},
   "outputs": [
    {
     "name": "stdout",
     "output_type": "stream",
     "text": [
      "z1 tensor([-2.1906])\n",
      "z2 tensor([-2.7406])\n",
      "z3 tensor([0.3808])\n",
      "z4 tensor([-15.])\n",
      "z5 tensor([0.4967])\n",
      "z6 tensor([0.9933])\n",
      "z7 tensor([-3.])\n",
      "z8 tensor([1.])\n",
      "z9 tensor([1.])\n",
      "y tensor([1.])\n"
     ]
    }
   ],
   "source": [
    "print(\"z1\", z1.grad)\n",
    "print(\"z2\", z2.grad)\n",
    "print(\"z3\", z3.grad)\n",
    "print(\"z4\", z4.grad)\n",
    "print(\"z5\", z5.grad)\n",
    "print(\"z6\", z6.grad)\n",
    "print(\"z7\", z7.grad)\n",
    "print(\"z8\", z8.grad)\n",
    "print(\"z9\", z9.grad)\n",
    "print(\"y\", y.grad)\n"
   ]
  }
 ],
 "metadata": {
  "kernelspec": {
   "display_name": ".venv",
   "language": "python",
   "name": "python3"
  },
  "language_info": {
   "codemirror_mode": {
    "name": "ipython",
    "version": 3
   },
   "file_extension": ".py",
   "mimetype": "text/x-python",
   "name": "python",
   "nbconvert_exporter": "python",
   "pygments_lexer": "ipython3",
   "version": "3.12.3"
  }
 },
 "nbformat": 4,
 "nbformat_minor": 2
}
