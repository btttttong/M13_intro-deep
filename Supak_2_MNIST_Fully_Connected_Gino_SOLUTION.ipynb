{
  "cells": [
    {
      "cell_type": "markdown",
      "metadata": {
        "id": "fIOo7906Ebt1"
      },
      "source": [
        "# MNIST classification with FCNN\n",
        "\n",
        "In this practice, we will consider the problem of image classification with fully connected neural network.\n",
        "\n",
        "We will solve the classic problem of handwritten digit recognition. The MNIST dataset has been created for this task. It contains images (28x28 pixels) of handwritten numbers from 0 to 9 -- i.e. There are 10 classes of pictures in total.\n",
        "\n",
        "Afterwards we will see, how such a neural network works for the problem of image recognition in CIFAR datasets, which are a set of real images reduced to a size of 32x32 pixels."
      ]
    },
    {
      "cell_type": "markdown",
      "metadata": {
        "id": "fq7VxTBfHkhM"
      },
      "source": [
        "# Seed random number generators\n",
        "\n",
        "Random number generators generate different sets of random numbers from run to run by default. Since random numbers are used to initialize the network weights and to form the batches, the resulting neural network's weights will differ from run to run.\n",
        "\n",
        "To make the results reproducible, it is necessary to initialize the random number generators with ```seed```s. This is done with the following commands: ```random.seed``` for the ```random``` library, ```np.random.seed``` for the ```numpy``` library. For pytorch, you will need several commands:\n",
        "\n",
        "```\n",
        "torch.manual_seed_all\n",
        "torch.cuda.manual_seed_all\n",
        "```\n",
        "\n",
        "You will also need to switch ```cuda``` to deterministic mode:\n",
        "\n",
        "```\n",
        "torch.backends.cudnn.deterministic = True\n",
        "```"
      ]
    },
    {
      "cell_type": "code",
      "execution_count": 1,
      "metadata": {
        "id": "DWr6cvb9pS3J"
      },
      "outputs": [],
      "source": [
        "import torch\n",
        "import numpy as np\n",
        "import random\n",
        "\n",
        "def set_all_seeds(seed=0):\n",
        "    random.seed(seed)\n",
        "    np.random.seed(seed)\n",
        "    torch.manual_seed(seed)\n",
        "    torch.cuda.manual_seed(seed)\n",
        "    torch.cuda.manual_seed_all(seed)  # if you are using multi-GPU.\n",
        "    torch.backends.cudnn.deterministic = True\n",
        "    torch.backends.cudnn.benchmark = False\n",
        "\n",
        "set_all_seeds(0)"
      ]
    },
    {
      "cell_type": "markdown",
      "metadata": {
        "id": "Sr9W-Bg-hCjz"
      },
      "source": [
        "# Load MNIST training and validation data into RAM\n",
        "\n",
        "To do so, use the ```torchvision.datasets.MNIST``` class. Note that the training and test parts are controlled by the ```train``` parameter."
      ]
    },
    {
      "cell_type": "code",
      "execution_count": 2,
      "metadata": {
        "id": "_dg-FUvwGN-d"
      },
      "outputs": [],
      "source": [
        "from torchvision.datasets import MNIST"
      ]
    },
    {
      "cell_type": "code",
      "execution_count": 3,
      "metadata": {
        "id": "MqGQWTDIpS3R"
      },
      "outputs": [],
      "source": [
        "## YOUR CODE HERE\n",
        "MNIST_train = MNIST(root='./data', train=True, download=True)\n",
        "MNIST_test = MNIST(root='./data', train=False, download=True)"
      ]
    },
    {
      "cell_type": "markdown",
      "metadata": {
        "id": "Tmd5j25vi0ag"
      },
      "source": [
        "# Check that everything works"
      ]
    },
    {
      "cell_type": "code",
      "execution_count": 4,
      "metadata": {
        "colab": {
          "base_uri": "https://localhost:8080/"
        },
        "id": "vv_Lz7PYpS3U",
        "outputId": "fcb6648e-96e8-4dac-c6d7-caabf22b55a0"
      },
      "outputs": [
        {
          "name": "stdout",
          "output_type": "stream",
          "text": [
            "torch.Size([60000, 28, 28]) torch.Size([60000]) <- train dataset X and y\n",
            "torch.Size([10000, 28, 28]) torch.Size([10000]) <- test dataset X and y\n",
            "torch.uint8 torch.int64 <- training data type\n"
          ]
        },
        {
          "name": "stderr",
          "output_type": "stream",
          "text": [
            "d:\\HS\\M13_Intro to Deep\\.venv\\Lib\\site-packages\\torchvision\\datasets\\mnist.py:76: UserWarning: train_data has been renamed data\n",
            "  warnings.warn(\"train_data has been renamed data\")\n",
            "d:\\HS\\M13_Intro to Deep\\.venv\\Lib\\site-packages\\torchvision\\datasets\\mnist.py:66: UserWarning: train_labels has been renamed targets\n",
            "  warnings.warn(\"train_labels has been renamed targets\")\n",
            "d:\\HS\\M13_Intro to Deep\\.venv\\Lib\\site-packages\\torchvision\\datasets\\mnist.py:81: UserWarning: test_data has been renamed data\n",
            "  warnings.warn(\"test_data has been renamed data\")\n",
            "d:\\HS\\M13_Intro to Deep\\.venv\\Lib\\site-packages\\torchvision\\datasets\\mnist.py:71: UserWarning: test_labels has been renamed targets\n",
            "  warnings.warn(\"test_labels has been renamed targets\")\n"
          ]
        }
      ],
      "source": [
        "X_train = MNIST_train.train_data\n",
        "y_train = MNIST_train.train_labels\n",
        "X_test = MNIST_test.test_data\n",
        "y_test = MNIST_test.test_labels\n",
        "\n",
        "print(X_train.shape, y_train.shape, '<- train dataset X and y')\n",
        "print(X_test.shape, y_test.shape, '<- test dataset X and y')\n",
        "\n",
        "print(X_train.dtype, y_train.dtype, '<- training data type')"
      ]
    },
    {
      "cell_type": "markdown",
      "metadata": {
        "id": "8fLL9uxtjl2R"
      },
      "source": [
        "# We give formats\n",
        "\n",
        "PyTorch works with float tensors by default. Thus it is necessary to convert tensors with data to float using the tensor's ```.float()``` method. As a loss function, we will use ```torch.nn.CrossEntropy```, which takes as input the predictions of the neural network and the tensor from the numbers of the correct classes. This tensor must be in the ```long``` format. Since by default ```y``` in the dataset is already in the ```long``` format, there is no need to do anything with the labels."
      ]
    },
    {
      "cell_type": "code",
      "execution_count": 5,
      "metadata": {
        "id": "_yTaVOrPvap6"
      },
      "outputs": [],
      "source": [
        "## YOUR CODE HERE\n",
        "X_train = X_train.float()\n",
        "y_train = y_train.float()\n",
        "X_test = X_test.float()\n",
        "y_test = y_test.float()"
      ]
    },
    {
      "cell_type": "markdown",
      "metadata": {
        "id": "KOYy5VW7l2JH"
      },
      "source": [
        "# View the data\n",
        "\n",
        "Visually evaluate the data that we have. Let's check that the markup matches what is contained in the picture. To do this, let's display an image with ```plt.imshow``` and see which label corresponds to this image.\n",
        "\n",
        "Pay attention to this code: in the following tasks, you will need to make mappings yourself."
      ]
    },
    {
      "cell_type": "code",
      "execution_count": 6,
      "metadata": {
        "colab": {
          "base_uri": "https://localhost:8080/",
          "height": 447
        },
        "id": "Z1tFXMwJpS3e",
        "outputId": "d1e91b6d-9e97-4e49-f0a5-83d1902ba1e7"
      },
      "outputs": [
        {
          "data": {
            "image/png": "[encoded data removed]",
            "text/plain": [
              "<Figure size 640x480 with 1 Axes>"
            ]
          },
          "metadata": {},
          "output_type": "display_data"
        },
        {
          "name": "stdout",
          "output_type": "stream",
          "text": [
            "tensor(2.)\n"
          ]
        }
      ],
      "source": [
        "import matplotlib.pyplot as plt\n",
        "\n",
        "index = 5\n",
        "\n",
        "plt.imshow(X_train[index, :, :])\n",
        "plt.show()\n",
        "print(y_train[index])"
      ]
    },
    {
      "cell_type": "markdown",
      "metadata": {
        "id": "QjHFPMEmpBcP"
      },
      "source": [
        "# Prepare the neural network\n",
        "\n",
        "In order to make a neural network in Pytorch, one should prepare a class inherited from ```pytorch.nn.Module```, which has two functions:\n",
        "\n",
        "* ```__init__(self, n_hidden_neurons)``` -- a constructor in which we define the modules that we use in the neural network. Before declaring modules, you need to initialize the parent class with ```super().__init__()```, after which you can declare the necessary modules\n",
        "The neural network in our case will consist of only three modules. Schematically, a neural network can be represented as follows:\n",
        "```\n",
        "torch.nn.Linear 28*28 -> n_hidden_neurons\n",
        "torch.nn.LeakyReLU\n",
        "torch.nn.Linear n_hidden_heurons -> 10\n",
        "```\n",
        "\n",
        "* ```forward(self, x)``` -- traverse the network forward. Here it is necessary to get forecasts for ```x```. ```x``` is a batch of images converted to a vector. Batch is a tensor of size ```N x 784```, where ```N``` is the number of images in the batch, ```784``` is the number of pixels in the black and white image (```28 x 28```). Apply the ```reshape([-1, 784])``` method to the input ```x``` (```-1``` here means \"the number that fits\", it will be automatically derived from amount of elements in the batch). After that successively apply the modules declared in the constructor to the signal and return the result."
      ]
    },
    {
      "cell_type": "code",
      "execution_count": 7,
      "metadata": {
        "id": "k7l65slppS3l"
      },
      "outputs": [],
      "source": [
        "class MNISTNet(torch.nn.Module):\n",
        "    def __init__(self, n_hidden_neurons):\n",
        "        super(MNISTNet, self).__init__()\n",
        "        self.fc1 = torch.nn.Linear(28 * 28, n_hidden_neurons)\n",
        "        self.bn1 = torch.nn.BatchNorm1d(n_hidden_neurons)\n",
        "        self.fc2 = torch.nn.Linear(n_hidden_neurons, n_hidden_neurons)\n",
        "        self.bn2 = torch.nn.BatchNorm1d(n_hidden_neurons)\n",
        "        self.fc3 = torch.nn.Linear(n_hidden_neurons, 10)\n",
        "\n",
        "    def forward(self, x):\n",
        "        x = x.reshape([-1, 28 * 28])\n",
        "        x = torch.nn.functional.relu(self.bn1(self.fc1(x)))\n",
        "        x = x + torch.nn.functional.relu(self.bn2(self.fc2(x)))  # Skip connection\n",
        "        res = self.fc3(x)\n",
        "        return res"
      ]
    },
    {
      "cell_type": "markdown",
      "metadata": {
        "id": "Yrnt4XH2w6zm"
      },
      "source": [
        "# Check that everything is correct"
      ]
    },
    {
      "cell_type": "code",
      "execution_count": 8,
      "metadata": {
        "colab": {
          "base_uri": "https://localhost:8080/"
        },
        "id": "-V1BqtLCw5rW",
        "outputId": "613fe6f8-3fc4-400f-d8bb-6da94cd8a770"
      },
      "outputs": [
        {
          "name": "stdout",
          "output_type": "stream",
          "text": [
            "torch.Size([10, 10]) <- shape of predictions\n"
          ]
        }
      ],
      "source": [
        "mnist_net = MNISTNet(50)\n",
        "res = mnist_net(torch.zeros(10, 28*28))\n",
        "assert res.shape[0] == 10\n",
        "print(res.shape, '<- shape of predictions')"
      ]
    },
    {
      "cell_type": "markdown",
      "metadata": {
        "id": "6EdyxZw7xUDX"
      },
      "source": [
        "# Set the loss function and optimizer\n",
        "\n",
        "We will use ```torch.nn.CrossEntropyLoss``` as a loss function\n",
        "\n",
        "We will use ```torch.nn.Adam``` as an optimizer\n",
        "\n",
        "The optimizer should optimize all parameters of the neural network (which can be referenced using the ```mnist_net.parameters()``` method) and the learning rate should be set to $10^{-3}$."
      ]
    },
    {
      "cell_type": "code",
      "execution_count": 9,
      "metadata": {
        "id": "00_2j2igpS3o"
      },
      "outputs": [],
      "source": [
        "# loss = torch.nn.CrossEntropyLoss()\n",
        "# optimizer = torch.optim.Adam(mnist_net.parameters(), lr=1.0e-3)\n",
        "\n",
        "mnist_net = MNISTNet(n_hidden_neurons=128)\n",
        "loss = torch.nn.CrossEntropyLoss()\n",
        "optimizer = torch.optim.Adam(mnist_net.parameters(), lr=1e-3)"
      ]
    },
    {
      "cell_type": "markdown",
      "metadata": {
        "id": "gB0gV4qS0GZb"
      },
      "source": [
        "# Let's build the learning process\n",
        "\n",
        "Everything is ready: optimizer, loss function, neural network. What remains is to train the neural network.\n",
        "\n",
        "To do so, you need to create a learning cycle.\n",
        "\n",
        "The training loop usually consists of two nested loops: the inner loop runs through all the examples in the training or testing set. One such pass is called an epoch.\n",
        "\n",
        "The outer cycle iterates over epochs.\n",
        "\n",
        "# Instructions for building a training loop\n",
        "\n",
        "* Make an outer loop for a predetermined number of epochs within which:\n",
        "   * Generate a random order of the training examples using the ```order = np.random.permutation(...)``` method\n",
        "   * Make an inner loop through the training examples. The loop should iterate over ```order``` with interval ```batch_size``` (```range(0, len(order), batch_size)```), in which:\n",
        "     * Get the indice of the training examples for the current step by slicing ```indice = order[start_index:start_index+batch_size]```.\n",
        "     * Next, from the training examples and labels, you need to select the appropriate examples and labels using indexing (```X_batch = X[indice]```).\n",
        "     * Now we are ready to get neural network predictions. If you are using batch normalization or DropOut, then here you need to switch the network to training mode (```net.train()```). It always is better to have.\n",
        "     * Get predictions for the received batch using a neural network (```batch_preds = net.forward(X_batch)```).\n",
        "     * Calculate the value of the loss function based on the predictions and batch labels\n",
        "     * Reset the gradients accumulated in the neural network nodes to be optimized (```optimizer.zero_grad()```).\n",
        "     * Calculate the gradients of the loss function from the parameters of the neural network ```loss.backward()```\n",
        "     * Take an optimizer step (```optimizer.step()```).\n",
        "     * If you are using batch normalization or DropOut, switch the neural network to validation mode (```net.valid()```). It always is better to have.\n",
        "\n",
        "   * Calculate predictions for the test set (in our case, this can be done in one batch, ```test_preds = net(X_test)```)\n",
        "   * Calculate the accuracy for the test set.\n",
        "   * Calculate the loss function for the test set.\n",
        "   * Add calculated accuracy to accuracy history and loss to loss history"
      ]
    },
    {
      "cell_type": "code",
      "execution_count": 10,
      "metadata": {
        "colab": {
          "base_uri": "https://localhost:8080/"
        },
        "id": "wZtqiGvfpS3r",
        "outputId": "cc8e2757-9e1a-40ca-f721-f634fd15a589"
      },
      "outputs": [
        {
          "name": "stdout",
          "output_type": "stream",
          "text": [
            "Epoch 1/100, Train Loss: 0.2223, Train Accuracy: 0.9368, Test Loss: 0.1090, Test Accuracy: 0.9666\n",
            "Epoch 2/100, Train Loss: 0.0910, Train Accuracy: 0.9724, Test Loss: 0.0908, Test Accuracy: 0.9700\n",
            "Epoch 3/100, Train Loss: 0.0625, Train Accuracy: 0.9806, Test Loss: 0.0773, Test Accuracy: 0.9753\n",
            "Epoch 4/100, Train Loss: 0.0464, Train Accuracy: 0.9857, Test Loss: 0.0717, Test Accuracy: 0.9779\n",
            "Epoch 5/100, Train Loss: 0.0375, Train Accuracy: 0.9880, Test Loss: 0.0697, Test Accuracy: 0.9793\n",
            "Epoch 6/100, Train Loss: 0.0319, Train Accuracy: 0.9898, Test Loss: 0.0708, Test Accuracy: 0.9781\n",
            "Epoch 7/100, Train Loss: 0.0271, Train Accuracy: 0.9913, Test Loss: 0.0819, Test Accuracy: 0.9767\n",
            "Epoch 8/100, Train Loss: 0.0222, Train Accuracy: 0.9927, Test Loss: 0.0737, Test Accuracy: 0.9790\n",
            "Epoch 9/100, Train Loss: 0.0196, Train Accuracy: 0.9934, Test Loss: 0.0778, Test Accuracy: 0.9785\n",
            "Epoch 10/100, Train Loss: 0.0182, Train Accuracy: 0.9939, Test Loss: 0.0812, Test Accuracy: 0.9769\n",
            "Epoch 11/100, Train Loss: 0.0161, Train Accuracy: 0.9946, Test Loss: 0.0833, Test Accuracy: 0.9758\n",
            "Epoch 12/100, Train Loss: 0.0143, Train Accuracy: 0.9952, Test Loss: 0.0738, Test Accuracy: 0.9796\n",
            "Epoch 13/100, Train Loss: 0.0113, Train Accuracy: 0.9962, Test Loss: 0.0787, Test Accuracy: 0.9784\n",
            "Epoch 14/100, Train Loss: 0.0128, Train Accuracy: 0.9956, Test Loss: 0.0842, Test Accuracy: 0.9784\n",
            "Epoch 15/100, Train Loss: 0.0125, Train Accuracy: 0.9961, Test Loss: 0.0728, Test Accuracy: 0.9812\n",
            "Epoch 16/100, Train Loss: 0.0102, Train Accuracy: 0.9967, Test Loss: 0.0867, Test Accuracy: 0.9783\n",
            "Epoch 17/100, Train Loss: 0.0091, Train Accuracy: 0.9966, Test Loss: 0.0806, Test Accuracy: 0.9804\n",
            "Epoch 18/100, Train Loss: 0.0097, Train Accuracy: 0.9969, Test Loss: 0.0850, Test Accuracy: 0.9797\n",
            "Epoch 19/100, Train Loss: 0.0083, Train Accuracy: 0.9974, Test Loss: 0.0798, Test Accuracy: 0.9808\n",
            "Epoch 20/100, Train Loss: 0.0077, Train Accuracy: 0.9978, Test Loss: 0.0863, Test Accuracy: 0.9785\n",
            "Epoch 21/100, Train Loss: 0.0080, Train Accuracy: 0.9971, Test Loss: 0.0871, Test Accuracy: 0.9794\n",
            "Epoch 22/100, Train Loss: 0.0099, Train Accuracy: 0.9965, Test Loss: 0.0846, Test Accuracy: 0.9804\n",
            "Epoch 23/100, Train Loss: 0.0061, Train Accuracy: 0.9979, Test Loss: 0.0840, Test Accuracy: 0.9809\n",
            "Epoch 24/100, Train Loss: 0.0052, Train Accuracy: 0.9985, Test Loss: 0.0871, Test Accuracy: 0.9807\n",
            "Epoch 25/100, Train Loss: 0.0063, Train Accuracy: 0.9979, Test Loss: 0.0900, Test Accuracy: 0.9801\n",
            "Epoch 26/100, Train Loss: 0.0066, Train Accuracy: 0.9980, Test Loss: 0.0901, Test Accuracy: 0.9800\n",
            "Epoch 27/100, Train Loss: 0.0071, Train Accuracy: 0.9977, Test Loss: 0.0940, Test Accuracy: 0.9799\n",
            "Epoch 28/100, Train Loss: 0.0070, Train Accuracy: 0.9978, Test Loss: 0.0942, Test Accuracy: 0.9785\n",
            "Epoch 29/100, Train Loss: 0.0063, Train Accuracy: 0.9979, Test Loss: 0.0867, Test Accuracy: 0.9805\n",
            "Epoch 30/100, Train Loss: 0.0053, Train Accuracy: 0.9982, Test Loss: 0.0834, Test Accuracy: 0.9809\n",
            "Epoch 31/100, Train Loss: 0.0051, Train Accuracy: 0.9982, Test Loss: 0.0789, Test Accuracy: 0.9822\n",
            "Epoch 32/100, Train Loss: 0.0035, Train Accuracy: 0.9990, Test Loss: 0.0891, Test Accuracy: 0.9818\n",
            "Epoch 33/100, Train Loss: 0.0082, Train Accuracy: 0.9972, Test Loss: 0.0941, Test Accuracy: 0.9805\n",
            "Epoch 34/100, Train Loss: 0.0055, Train Accuracy: 0.9981, Test Loss: 0.0836, Test Accuracy: 0.9811\n",
            "Epoch 35/100, Train Loss: 0.0035, Train Accuracy: 0.9990, Test Loss: 0.0858, Test Accuracy: 0.9818\n",
            "Epoch 36/100, Train Loss: 0.0050, Train Accuracy: 0.9984, Test Loss: 0.0919, Test Accuracy: 0.9806\n",
            "Epoch 37/100, Train Loss: 0.0046, Train Accuracy: 0.9984, Test Loss: 0.0830, Test Accuracy: 0.9810\n",
            "Epoch 38/100, Train Loss: 0.0047, Train Accuracy: 0.9984, Test Loss: 0.0874, Test Accuracy: 0.9827\n",
            "Epoch 39/100, Train Loss: 0.0041, Train Accuracy: 0.9988, Test Loss: 0.0881, Test Accuracy: 0.9820\n",
            "Epoch 40/100, Train Loss: 0.0045, Train Accuracy: 0.9986, Test Loss: 0.0880, Test Accuracy: 0.9820\n",
            "Epoch 41/100, Train Loss: 0.0037, Train Accuracy: 0.9988, Test Loss: 0.0873, Test Accuracy: 0.9826\n",
            "Epoch 42/100, Train Loss: 0.0042, Train Accuracy: 0.9986, Test Loss: 0.1004, Test Accuracy: 0.9800\n",
            "Epoch 43/100, Train Loss: 0.0038, Train Accuracy: 0.9986, Test Loss: 0.1076, Test Accuracy: 0.9798\n",
            "Epoch 44/100, Train Loss: 0.0036, Train Accuracy: 0.9989, Test Loss: 0.0965, Test Accuracy: 0.9805\n",
            "Epoch 45/100, Train Loss: 0.0039, Train Accuracy: 0.9988, Test Loss: 0.0942, Test Accuracy: 0.9798\n",
            "Epoch 46/100, Train Loss: 0.0038, Train Accuracy: 0.9987, Test Loss: 0.0990, Test Accuracy: 0.9807\n",
            "Epoch 47/100, Train Loss: 0.0033, Train Accuracy: 0.9988, Test Loss: 0.0895, Test Accuracy: 0.9826\n",
            "Epoch 48/100, Train Loss: 0.0032, Train Accuracy: 0.9989, Test Loss: 0.0871, Test Accuracy: 0.9815\n",
            "Epoch 49/100, Train Loss: 0.0039, Train Accuracy: 0.9987, Test Loss: 0.1064, Test Accuracy: 0.9798\n",
            "Epoch 50/100, Train Loss: 0.0033, Train Accuracy: 0.9988, Test Loss: 0.0878, Test Accuracy: 0.9818\n",
            "Epoch 51/100, Train Loss: 0.0027, Train Accuracy: 0.9990, Test Loss: 0.0925, Test Accuracy: 0.9814\n",
            "Epoch 52/100, Train Loss: 0.0030, Train Accuracy: 0.9990, Test Loss: 0.0940, Test Accuracy: 0.9822\n",
            "Epoch 53/100, Train Loss: 0.0046, Train Accuracy: 0.9985, Test Loss: 0.0959, Test Accuracy: 0.9814\n",
            "Epoch 54/100, Train Loss: 0.0037, Train Accuracy: 0.9987, Test Loss: 0.0937, Test Accuracy: 0.9818\n",
            "Epoch 55/100, Train Loss: 0.0038, Train Accuracy: 0.9988, Test Loss: 0.0908, Test Accuracy: 0.9816\n",
            "Epoch 56/100, Train Loss: 0.0034, Train Accuracy: 0.9988, Test Loss: 0.0861, Test Accuracy: 0.9827\n",
            "Epoch 57/100, Train Loss: 0.0021, Train Accuracy: 0.9993, Test Loss: 0.0876, Test Accuracy: 0.9820\n",
            "Epoch 58/100, Train Loss: 0.0023, Train Accuracy: 0.9992, Test Loss: 0.1050, Test Accuracy: 0.9803\n",
            "Epoch 59/100, Train Loss: 0.0033, Train Accuracy: 0.9988, Test Loss: 0.0927, Test Accuracy: 0.9807\n",
            "Epoch 60/100, Train Loss: 0.0030, Train Accuracy: 0.9990, Test Loss: 0.0978, Test Accuracy: 0.9810\n",
            "Epoch 61/100, Train Loss: 0.0035, Train Accuracy: 0.9988, Test Loss: 0.0914, Test Accuracy: 0.9824\n",
            "Epoch 62/100, Train Loss: 0.0016, Train Accuracy: 0.9996, Test Loss: 0.0942, Test Accuracy: 0.9819\n",
            "Epoch 63/100, Train Loss: 0.0033, Train Accuracy: 0.9989, Test Loss: 0.1030, Test Accuracy: 0.9814\n",
            "Epoch 64/100, Train Loss: 0.0027, Train Accuracy: 0.9990, Test Loss: 0.1026, Test Accuracy: 0.9811\n",
            "Epoch 65/100, Train Loss: 0.0030, Train Accuracy: 0.9990, Test Loss: 0.0929, Test Accuracy: 0.9822\n",
            "Epoch 66/100, Train Loss: 0.0024, Train Accuracy: 0.9992, Test Loss: 0.0994, Test Accuracy: 0.9804\n",
            "Epoch 67/100, Train Loss: 0.0030, Train Accuracy: 0.9990, Test Loss: 0.1023, Test Accuracy: 0.9813\n",
            "Epoch 68/100, Train Loss: 0.0028, Train Accuracy: 0.9990, Test Loss: 0.1085, Test Accuracy: 0.9807\n",
            "Epoch 69/100, Train Loss: 0.0025, Train Accuracy: 0.9991, Test Loss: 0.1031, Test Accuracy: 0.9807\n",
            "Epoch 70/100, Train Loss: 0.0021, Train Accuracy: 0.9993, Test Loss: 0.1056, Test Accuracy: 0.9803\n",
            "Epoch 71/100, Train Loss: 0.0019, Train Accuracy: 0.9994, Test Loss: 0.1039, Test Accuracy: 0.9817\n",
            "Epoch 72/100, Train Loss: 0.0031, Train Accuracy: 0.9990, Test Loss: 0.1054, Test Accuracy: 0.9812\n",
            "Epoch 73/100, Train Loss: 0.0020, Train Accuracy: 0.9993, Test Loss: 0.1004, Test Accuracy: 0.9822\n",
            "Epoch 74/100, Train Loss: 0.0026, Train Accuracy: 0.9992, Test Loss: 0.1016, Test Accuracy: 0.9818\n",
            "Epoch 75/100, Train Loss: 0.0024, Train Accuracy: 0.9991, Test Loss: 0.1096, Test Accuracy: 0.9809\n",
            "Epoch 76/100, Train Loss: 0.0025, Train Accuracy: 0.9992, Test Loss: 0.1070, Test Accuracy: 0.9818\n",
            "Epoch 77/100, Train Loss: 0.0013, Train Accuracy: 0.9996, Test Loss: 0.1030, Test Accuracy: 0.9828\n",
            "Epoch 78/100, Train Loss: 0.0027, Train Accuracy: 0.9991, Test Loss: 0.1241, Test Accuracy: 0.9790\n",
            "Epoch 79/100, Train Loss: 0.0022, Train Accuracy: 0.9993, Test Loss: 0.1138, Test Accuracy: 0.9797\n",
            "Epoch 80/100, Train Loss: 0.0017, Train Accuracy: 0.9994, Test Loss: 0.1134, Test Accuracy: 0.9803\n",
            "Epoch 81/100, Train Loss: 0.0028, Train Accuracy: 0.9990, Test Loss: 0.0982, Test Accuracy: 0.9819\n",
            "Epoch 82/100, Train Loss: 0.0031, Train Accuracy: 0.9990, Test Loss: 0.1193, Test Accuracy: 0.9791\n",
            "Epoch 83/100, Train Loss: 0.0015, Train Accuracy: 0.9994, Test Loss: 0.1042, Test Accuracy: 0.9810\n",
            "Epoch 84/100, Train Loss: 0.0015, Train Accuracy: 0.9995, Test Loss: 0.1023, Test Accuracy: 0.9823\n",
            "Epoch 85/100, Train Loss: 0.0031, Train Accuracy: 0.9990, Test Loss: 0.1058, Test Accuracy: 0.9807\n",
            "Epoch 86/100, Train Loss: 0.0023, Train Accuracy: 0.9992, Test Loss: 0.0983, Test Accuracy: 0.9823\n",
            "Epoch 87/100, Train Loss: 0.0018, Train Accuracy: 0.9994, Test Loss: 0.1068, Test Accuracy: 0.9810\n",
            "Epoch 88/100, Train Loss: 0.0019, Train Accuracy: 0.9996, Test Loss: 0.1027, Test Accuracy: 0.9819\n",
            "Epoch 89/100, Train Loss: 0.0035, Train Accuracy: 0.9988, Test Loss: 0.1050, Test Accuracy: 0.9805\n",
            "Epoch 90/100, Train Loss: 0.0016, Train Accuracy: 0.9995, Test Loss: 0.0967, Test Accuracy: 0.9827\n",
            "Epoch 91/100, Train Loss: 0.0021, Train Accuracy: 0.9993, Test Loss: 0.1057, Test Accuracy: 0.9815\n",
            "Epoch 92/100, Train Loss: 0.0027, Train Accuracy: 0.9991, Test Loss: 0.1126, Test Accuracy: 0.9803\n",
            "Epoch 93/100, Train Loss: 0.0022, Train Accuracy: 0.9993, Test Loss: 0.1081, Test Accuracy: 0.9822\n",
            "Epoch 94/100, Train Loss: 0.0018, Train Accuracy: 0.9993, Test Loss: 0.1130, Test Accuracy: 0.9813\n",
            "Epoch 95/100, Train Loss: 0.0020, Train Accuracy: 0.9993, Test Loss: 0.1065, Test Accuracy: 0.9817\n",
            "Epoch 96/100, Train Loss: 0.0019, Train Accuracy: 0.9994, Test Loss: 0.1048, Test Accuracy: 0.9819\n",
            "Epoch 97/100, Train Loss: 0.0017, Train Accuracy: 0.9995, Test Loss: 0.1008, Test Accuracy: 0.9837\n",
            "Epoch 98/100, Train Loss: 0.0011, Train Accuracy: 0.9996, Test Loss: 0.1053, Test Accuracy: 0.9821\n",
            "Epoch 99/100, Train Loss: 0.0022, Train Accuracy: 0.9994, Test Loss: 0.1044, Test Accuracy: 0.9832\n",
            "Epoch 100/100, Train Loss: 0.0017, Train Accuracy: 0.9995, Test Loss: 0.1066, Test Accuracy: 0.9817\n"
          ]
        }
      ],
      "source": [
        "# Training parameters\n",
        "batch_size = 100\n",
        "n_epochs = 100\n",
        "\n",
        "train_loss_history = []\n",
        "train_accuracy_history = []\n",
        "test_loss_history = []\n",
        "test_accuracy_history = []\n",
        "\n",
        "\n",
        "def model_eval(net, X_test, y_test):\n",
        "    net.eval()\n",
        "    test_loss = 0.0\n",
        "    correct = 0\n",
        "    total = 0\n",
        "\n",
        "    with torch.no_grad():\n",
        "        test_preds = net(X_test)\n",
        "        test_loss = loss(test_preds, y_test.long()).item() * X_test.size(0)\n",
        "        _, predicted = torch.max(test_preds, 1)\n",
        "        total += y_test.size(0)\n",
        "        correct += (predicted == y_test).sum().item()\n",
        "\n",
        "    test_loss /= total\n",
        "    test_accuracy = correct / total\n",
        "    return test_loss, test_accuracy\n",
        "\n",
        "\n",
        "for epoch in range(n_epochs):\n",
        "    mnist_net.train()\n",
        "    order = np.random.permutation(len(X_train))\n",
        "    running_loss = 0.0\n",
        "    correct = 0\n",
        "    total = 0\n",
        "\n",
        "    for start_index in range(0, len(order), batch_size):\n",
        "        indice = order[start_index : start_index + batch_size]\n",
        "        X_batch = X_train[indice]\n",
        "        y_batch = y_train[indice].long()\n",
        "\n",
        "        batch_preds = mnist_net(X_batch)\n",
        "        loss_val = loss(batch_preds, y_batch)\n",
        "\n",
        "        optimizer.zero_grad()\n",
        "        loss_val.backward()\n",
        "        optimizer.step()\n",
        "\n",
        "        running_loss += loss_val.item() * X_batch.size(0)\n",
        "        _, predicted = torch.max(batch_preds, 1)\n",
        "        total += y_batch.size(0)\n",
        "        correct += (predicted == y_batch).sum().item()\n",
        "\n",
        "    train_loss = running_loss / total\n",
        "    train_accuracy = correct / total\n",
        "    train_loss_history.append(train_loss)\n",
        "    train_accuracy_history.append(train_accuracy)\n",
        "\n",
        "    test_loss, test_accuracy = model_eval(mnist_net, X_test, y_test)\n",
        "    test_loss_history.append(test_loss)\n",
        "    test_accuracy_history.append(test_accuracy)\n",
        "\n",
        "    print(\n",
        "        f\"Epoch {epoch+1}/{n_epochs}, Train Loss: {train_loss:.4f}, Train Accuracy: {train_accuracy:.4f}, Test Loss: {test_loss:.4f}, Test Accuracy: {test_accuracy:.4f}\"\n",
        "    )"
      ]
    },
    {
      "cell_type": "code",
      "execution_count": 14,
      "metadata": {
        "colab": {
          "base_uri": "https://localhost:8080/"
        },
        "id": "B70PWH9vPuKt",
        "outputId": "11a70e88-36a0-4cbe-d4bb-93e6e7500e70"
      },
      "outputs": [
        {
          "name": "stdout",
          "output_type": "stream",
          "text": [
            "Accuracy on test: 0.9817\n"
          ]
        }
      ],
      "source": [
        "print('Accuracy on test:', model_eval(mnist_net, X_test, y_test)[1])"
      ]
    },
    {
      "cell_type": "markdown",
      "metadata": {
        "id": "-pzbNWXGTFa7"
      },
      "source": [
        "# Plot the learning progress graph"
      ]
    },
    {
      "cell_type": "code",
      "execution_count": 15,
      "metadata": {
        "colab": {
          "base_uri": "https://localhost:8080/",
          "height": 447
        },
        "id": "FJfg3GujO0xM",
        "outputId": "9bc06a8f-5771-495f-af8e-6dfdde8be115"
      },
      "outputs": [
        {
          "data": {
            "text/plain": [
              "[<matplotlib.lines.Line2D at 0x1d901004ad0>]"
            ]
          },
          "execution_count": 15,
          "metadata": {},
          "output_type": "execute_result"
        },
        {
          "data": {
            "image/png": "[encoded data removed]",
            "text/plain": [
              "<Figure size 640x480 with 1 Axes>"
            ]
          },
          "metadata": {},
          "output_type": "display_data"
        }
      ],
      "source": [
        "plt.plot(train_loss_history)\n",
        "plt.plot(test_loss_history)"
      ]
    },
    {
      "cell_type": "code",
      "execution_count": 16,
      "metadata": {
        "colab": {
          "base_uri": "https://localhost:8080/",
          "height": 447
        },
        "id": "H1YXGVv6YATf",
        "outputId": "cf2aa94e-83c6-4eca-ed80-fc1dae04d7f4"
      },
      "outputs": [
        {
          "data": {
            "text/plain": [
              "[<matplotlib.lines.Line2D at 0x1d9010607d0>]"
            ]
          },
          "execution_count": 16,
          "metadata": {},
          "output_type": "execute_result"
        },
        {
          "data": {
            "image/png": "[encoded data removed]",
            "text/plain": [
              "<Figure size 640x480 with 1 Axes>"
            ]
          },
          "metadata": {},
          "output_type": "display_data"
        }
      ],
      "source": [
        "plt.plot(train_accuracy_history)\n",
        "plt.plot(test_accuracy_history)"
      ]
    },
    {
      "cell_type": "markdown",
      "metadata": {
        "id": "bAmVWtqpTQ0R"
      },
      "source": [
        "# Afterword\n",
        "\n",
        "You have done your first cycle of learning on your own. It is quite simple and concise, takes no more than 100 lines, and it is quite easy to rewrite it. More and more functionality can be added to this learning cycle. As a result, the learning loop will become very large and unreadable, the logic inside the loop will be quite difficult to understand.\n",
        "\n",
        "In order not to think about training cycles, libraries have been developed to simplify the training of neural networks, such as PyTorch Lightning. We'll get to know PyTorch Lightning in the next practice."
      ]
    }
  ],
  "metadata": {
    "accelerator": "GPU",
    "colab": {
      "gpuType": "T4",
      "provenance": []
    },
    "kernelspec": {
      "display_name": "Python 3",
      "name": "python3"
    },
    "language_info": {
      "codemirror_mode": {
        "name": "ipython",
        "version": 3
      },
      "file_extension": ".py",
      "mimetype": "text/x-python",
      "name": "python",
      "nbconvert_exporter": "python",
      "pygments_lexer": "ipython3",
      "version": "3.12.3"
    }
  },
  "nbformat": 4,
  "nbformat_minor": 0
}
