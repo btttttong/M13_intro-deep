{
 "cells": [
  {
   "cell_type": "code",
   "execution_count": 2,
   "metadata": {},
   "outputs": [
    {
     "name": "stdout",
     "output_type": "stream",
     "text": [
      "[4.         3.33333333 2.         2.         3.        ]\n"
     ]
    }
   ],
   "source": [
    "#calculate the moving average of a given sequence\n",
    "import numpy as np\n",
    "\n",
    "# Given sequence\n",
    "sequence = [4, 5, 3, 2, 1, 3, 5]\n",
    "\n",
    "# Window size\n",
    "window_size = 3\n",
    "\n",
    "# Calculate the moving average\n",
    "moving_averages = np.convolve(\n",
    "    sequence, np.ones(window_size) / window_size, mode=\"valid\"\n",
    ")\n",
    "\n",
    "print(moving_averages)"
   ]
  },
  {
   "cell_type": "code",
   "execution_count": 1,
   "metadata": {},
   "outputs": [
    {
     "name": "stdout",
     "output_type": "stream",
     "text": [
      "[4, 4.5, 3.75, 2.875, 1.9375, 2.46875, 3.734375]\n"
     ]
    }
   ],
   "source": [
    "#calculate the exponential moving average of a given sequence\n",
    "def calculate_ema(data, window):\n",
    "    alpha = 2 / (window + 1)\n",
    "    ema = [data[0]]  # Start with the first data point\n",
    "\n",
    "    for price in data[1:]:\n",
    "        ema.append(alpha * price + (1 - alpha) * ema[-1])\n",
    "\n",
    "    return ema\n",
    "\n",
    "\n",
    "# Given sequence\n",
    "sequence = [4, 5, 3, 2, 1, 3, 5]\n",
    "\n",
    "# Window size\n",
    "window_size = 3\n",
    "\n",
    "# Calculate EMA\n",
    "ema_values = calculate_ema(sequence, window_size)\n",
    "\n",
    "print(ema_values)"
   ]
  },
  {
   "cell_type": "code",
   "execution_count": 4,
   "metadata": {},
   "outputs": [
    {
     "name": "stdout",
     "output_type": "stream",
     "text": [
      "Time step 1, EMA Gradient: 0.3999999999999999, Weights: [0.496]\n",
      "Time step 2, EMA Gradient: 0.8599999999999999, Weights: [0.4874]\n",
      "Time step 3, EMA Gradient: 1.0739999999999998, Weights: [0.47666]\n",
      "Time step 4, EMA Gradient: 1.1665999999999999, Weights: [0.464994]\n",
      "Time step 5, EMA Gradient: 1.14994, Weights: [0.4534946]\n",
      "Time step 6, EMA Gradient: 1.334946, Weights: [0.44014514]\n",
      "Time step 7, EMA Gradient: 1.7014513999999998, Weights: [0.42313063]\n"
     ]
    }
   ],
   "source": [
    "#calculate the exponential moving average Momentum\n",
    "import numpy as np\n",
    "\n",
    "# Example gradients and initialization\n",
    "gradients = np.array([4, 5, 3, 2, 1, 3, 5])\n",
    "alpha = 0.01  # Learning rate\n",
    "beta = 0.9  # Smoothing parameter\n",
    "weights = np.array([0.5])  # Initial weights\n",
    "\n",
    "# Initialize EMA of gradient\n",
    "ema_gradient = 0\n",
    "\n",
    "for t, grad in enumerate(gradients):\n",
    "    ema_gradient = (1 - beta) * grad + beta * ema_gradient\n",
    "    weights -= alpha * ema_gradient\n",
    "    print(f\"Time step {t+1}, EMA Gradient: {ema_gradient}, Weights: {weights}\")"
   ]
  },
  {
   "cell_type": "code",
   "execution_count": null,
   "metadata": {},
   "outputs": [],
   "source": []
  }
 ],
 "metadata": {
  "kernelspec": {
   "display_name": ".venv",
   "language": "python",
   "name": "python3"
  },
  "language_info": {
   "codemirror_mode": {
    "name": "ipython",
    "version": 3
   },
   "file_extension": ".py",
   "mimetype": "text/x-python",
   "name": "python",
   "nbconvert_exporter": "python",
   "pygments_lexer": "ipython3",
   "version": "3.12.3"
  }
 },
 "nbformat": 4,
 "nbformat_minor": 2
}
